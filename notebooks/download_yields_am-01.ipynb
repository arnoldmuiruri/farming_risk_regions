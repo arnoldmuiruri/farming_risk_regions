{
 "cells": [
  {
   "cell_type": "markdown",
   "id": "53529a66",
   "metadata": {},
   "source": [
    "### Description\n",
    "\n",
    "This notebook downloads agricultural yield data from the USDA National Agricultural Statistics Service (NASS) QuickStats API.\n"
   ]
  },
  {
   "cell_type": "code",
   "execution_count": 66,
   "id": "25d999b0",
   "metadata": {},
   "outputs": [],
   "source": [
    "# Imports and Logging Setup\n",
    "import requests\n",
    "import pandas as pd\n",
    "from pathlib import Path\n",
    "from tqdm import tqdm\n",
    "from datetime import datetime\n"
   ]
  },
  {
   "cell_type": "code",
   "execution_count": 67,
   "id": "a7521201",
   "metadata": {},
   "outputs": [],
   "source": [
    "# Config\n",
    "\n",
    "API_CONFIG = {\n",
    "    \"key\": \"CDA43551-0A5A-31F4-A033-7DD4ED6A9A17\",\n",
    "    \"base_url\": \"https://quickstats.nass.usda.gov/api/api_GET/\",\n",
    "    \"format\": \"JSON\"\n",
    "}\n",
    "\n",
    "INTERIM_DIR = Path(\"C:/Users/Arnold/OneDrive/Desktop/CAPSTONE PROJECT/farming_risk_regions/data/interim/yield_data\")\n",
    "INTERIM_DIR.mkdir(parents=True, exist_ok=True)\n",
    "\n",
    "CROP_CONFIG = {\n",
    "    \"name\": \"CORN\",\n",
    "    \"start_year\": 2015,\n",
    "    \"end_year\": 2025\n",
    "}\n",
    "\n",
    "STATE_COUNTY_CONFIG = {\n",
    "    'IA': ['Story'],\n",
    "    'IL': ['McLean']\n",
    "}\n",
    "\n",
    "if not API_CONFIG[\"key\"]:\n",
    "    raise ValueError(\"API key not found. Please provide a valid USDA NASS API key.\")"
   ]
  },
  {
   "cell_type": "code",
   "execution_count": 68,
   "id": "eeef23ea",
   "metadata": {},
   "outputs": [],
   "source": [
    "# Helper Functions\n",
    "def query_nass(params):\n",
    "    params_full = params.copy()\n",
    "    params_full['key'] = API_CONFIG['key']\n",
    "    params_full['format'] = API_CONFIG['format']\n",
    "    try:\n",
    "        resp = requests.get(API_CONFIG['base_url'], params=params_full)\n",
    "        resp.raise_for_status()\n",
    "        return resp.json().get(\"data\", [])\n",
    "    except requests.exceptions.RequestException as e:\n",
    "        print(f\"API request failed: {str(e)}\")\n",
    "        return []\n",
    "\n",
    "def safe_float(s):\n",
    "    try:\n",
    "        return float(s.replace(\",\", \"\")) if s not in (None, \"\", \" \") else None\n",
    "    except (ValueError, AttributeError):\n",
    "        return None\n",
    "\n",
    "def fetch_crop_data(crop, year, state_alpha, county_name):\n",
    "    result = {\n",
    "        \"crop\": crop,\n",
    "        \"year\": year,\n",
    "        \"state\": state_alpha,\n",
    "        \"county\": county_name,\n",
    "        \"area_harvested\": None,\n",
    "        \"area_harvested_unit\": None,\n",
    "        \"yield_value\": None,\n",
    "        \"yield_unit\": None\n",
    "    }\n",
    "    base_params = {\n",
    "        \"commodity_desc\": crop,\n",
    "        \"year\": year,\n",
    "        \"agg_level_desc\": \"COUNTY\",\n",
    "        \"state_alpha\": state_alpha,\n",
    "        \"county_name\": county_name,\n",
    "        \"domain_desc\": \"TOTAL\"\n",
    "    }\n",
    "    # Area harvested\n",
    "    area_params = base_params.copy()\n",
    "    area_params[\"statisticcat_desc\"] = \"AREA HARVESTED\"\n",
    "    area_data = query_nass(area_params)\n",
    "    if area_data:\n",
    "        result[\"area_harvested\"] = safe_float(area_data[0].get(\"Value\"))\n",
    "        result[\"area_harvested_unit\"] = area_data[0].get(\"unit_desc\")\n",
    "    # Yield\n",
    "    yield_params = base_params.copy()\n",
    "    yield_params[\"statisticcat_desc\"] = \"YIELD\"\n",
    "    yield_data = query_nass(yield_params)\n",
    "    if yield_data:\n",
    "        result[\"yield_value\"] = safe_float(yield_data[0].get(\"Value\"))\n",
    "        result[\"yield_unit\"] = yield_data[0].get(\"unit_desc\")\n",
    "    return result"
   ]
  },
  {
   "cell_type": "code",
   "execution_count": 69,
   "id": "2d7679d8",
   "metadata": {},
   "outputs": [
    {
     "name": "stdout",
     "output_type": "stream",
     "text": [
      "Starting data collection for CORN\n",
      "Time period: 2015 - 2025\n",
      "States: IA, IL\n",
      "Processing Story, IA\n"
     ]
    },
    {
     "name": "stderr",
     "output_type": "stream",
     "text": [
      "Story, IA:  91%|█████████ | 10/11 [00:16<00:01,  1.52s/it]"
     ]
    },
    {
     "name": "stdout",
     "output_type": "stream",
     "text": [
      "API request failed: 400 Client Error: Bad Request for url: https://quickstats.nass.usda.gov/api/api_GET/?commodity_desc=CORN&year=2025&agg_level_desc=COUNTY&state_alpha=IA&county_name=Story&domain_desc=TOTAL&statisticcat_desc=AREA+HARVESTED&key=CDA43551-0A5A-31F4-A033-7DD4ED6A9A17&format=JSON\n"
     ]
    },
    {
     "name": "stderr",
     "output_type": "stream",
     "text": [
      "Story, IA: 100%|██████████| 11/11 [00:17<00:00,  1.61s/it]\n",
      "Story, IA: 100%|██████████| 11/11 [00:17<00:00,  1.61s/it]\n"
     ]
    },
    {
     "name": "stdout",
     "output_type": "stream",
     "text": [
      "API request failed: 400 Client Error: Bad Request for url: https://quickstats.nass.usda.gov/api/api_GET/?commodity_desc=CORN&year=2025&agg_level_desc=COUNTY&state_alpha=IA&county_name=Story&domain_desc=TOTAL&statisticcat_desc=YIELD&key=CDA43551-0A5A-31F4-A033-7DD4ED6A9A17&format=JSON\n",
      "Processing McLean, IL\n"
     ]
    },
    {
     "name": "stderr",
     "output_type": "stream",
     "text": [
      "McLean, IL:  91%|█████████ | 10/11 [00:15<00:01,  1.47s/it]"
     ]
    },
    {
     "name": "stdout",
     "output_type": "stream",
     "text": [
      "API request failed: 400 Client Error: Bad Request for url: https://quickstats.nass.usda.gov/api/api_GET/?commodity_desc=CORN&year=2025&agg_level_desc=COUNTY&state_alpha=IL&county_name=McLean&domain_desc=TOTAL&statisticcat_desc=AREA+HARVESTED&key=CDA43551-0A5A-31F4-A033-7DD4ED6A9A17&format=JSON\n"
     ]
    },
    {
     "name": "stderr",
     "output_type": "stream",
     "text": [
      "McLean, IL: 100%|██████████| 11/11 [00:16<00:00,  1.50s/it]"
     ]
    },
    {
     "name": "stdout",
     "output_type": "stream",
     "text": [
      "API request failed: 400 Client Error: Bad Request for url: https://quickstats.nass.usda.gov/api/api_GET/?commodity_desc=CORN&year=2025&agg_level_desc=COUNTY&state_alpha=IL&county_name=McLean&domain_desc=TOTAL&statisticcat_desc=YIELD&key=CDA43551-0A5A-31F4-A033-7DD4ED6A9A17&format=JSON\n"
     ]
    },
    {
     "name": "stderr",
     "output_type": "stream",
     "text": [
      "\n"
     ]
    }
   ],
   "source": [
    "# Data Collection and Saving\n",
    "years = list(range(CROP_CONFIG['start_year'], CROP_CONFIG['end_year'] + 1))\n",
    "all_records = []\n",
    "\n",
    "print(f\"Starting data collection for {CROP_CONFIG['name']}\")\n",
    "print(f\"Time period: {CROP_CONFIG['start_year']} - {CROP_CONFIG['end_year']}\")\n",
    "print(f\"States: {', '.join(STATE_COUNTY_CONFIG.keys())}\")\n",
    "\n",
    "for state, counties in STATE_COUNTY_CONFIG.items():\n",
    "    for county in counties:\n",
    "        print(f\"Processing {county}, {state}\")\n",
    "        for year in tqdm(years, desc=f\"{county}, {state}\"):\n",
    "            record = fetch_crop_data(\n",
    "                crop=CROP_CONFIG['name'],\n",
    "                year=year,\n",
    "                state_alpha=state,\n",
    "                county_name=county\n",
    "            )\n",
    "            all_records.append(record)\n"
   ]
  },
  {
   "cell_type": "code",
   "execution_count": 70,
   "id": "5bc1aeef",
   "metadata": {},
   "outputs": [
    {
     "name": "stdout",
     "output_type": "stream",
     "text": [
      "Data saved to C:\\Users\\Arnold\\OneDrive\\Desktop\\CAPSTONE PROJECT\\farming_risk_regions\\data\\interim\\yield_data\\corn_yields_20250930.csv\n"
     ]
    }
   ],
   "source": [
    "\n",
    "# Save results\n",
    "df = pd.DataFrame(all_records)\n",
    "output_file = INTERIM_DIR / f\"{CROP_CONFIG['name'].lower()}_yields_{datetime.now():%Y%m%d}.csv\"\n",
    "df.to_csv(output_file, index=False)\n",
    "print(f\"Data saved to {output_file}\")"
   ]
  },
  {
   "cell_type": "code",
   "execution_count": 71,
   "id": "36b51bed",
   "metadata": {},
   "outputs": [
    {
     "name": "stdout",
     "output_type": "stream",
     "text": [
      "\n",
      "Data Collection Summary\n",
      "--------------------------------------------------\n",
      "Total records: 22\n",
      "Year range: 2015 - 2025\n",
      "States covered: IA, IL\n",
      "\n",
      "Sample of collected data:\n",
      "   crop  year state county  area_harvested area_harvested_unit  yield_value  \\\n",
      "0  CORN  2015    IA  Story        161100.0               ACRES        188.0   \n",
      "1  CORN  2016    IA  Story        171800.0               ACRES        211.9   \n",
      "2  CORN  2017    IA  Story        158256.0               ACRES        200.3   \n",
      "3  CORN  2018    IA  Story        157800.0               ACRES        192.3   \n",
      "4  CORN  2019    IA  Story        166700.0               ACRES        189.3   \n",
      "\n",
      "  yield_unit  \n",
      "0  BU / ACRE  \n",
      "1  BU / ACRE  \n",
      "2  BU / ACRE  \n",
      "3  BU / ACRE  \n",
      "4  BU / ACRE  \n"
     ]
    }
   ],
   "source": [
    "# Data Summary\n",
    "print(\"\\nData Collection Summary\")\n",
    "print(\"-\" * 50)\n",
    "print(f\"Total records: {len(df)}\")\n",
    "print(f\"Year range: {df['year'].min()} - {df['year'].max()}\")\n",
    "print(f\"States covered: {', '.join(df['state'].unique())}\")\n",
    "print(\"\\nSample of collected data:\")\n",
    "print(df.head())"
   ]
  }
 ],
 "metadata": {
  "kernelspec": {
   "display_name": ".venv",
   "language": "python",
   "name": "python3"
  },
  "language_info": {
   "name": "python",
   "version": "3.12.7"
  }
 },
 "nbformat": 4,
 "nbformat_minor": 5
}
