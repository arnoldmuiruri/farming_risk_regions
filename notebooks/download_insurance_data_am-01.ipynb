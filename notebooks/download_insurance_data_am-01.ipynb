{
 "cells": [
  {
   "cell_type": "markdown",
   "id": "cb45af88",
   "metadata": {},
   "source": [
    "### Brief Description"
   ]
  },
  {
   "cell_type": "markdown",
   "id": "19def140",
   "metadata": {},
   "source": [
    "This notebook was used to download insurance data from the USDA RMA\n"
   ]
  },
  {
   "cell_type": "code",
   "execution_count": 2,
   "id": "4a94839f",
   "metadata": {},
   "outputs": [],
   "source": [
    "import pandas as pd\n",
    "import requests\n",
    "from io import StringIO, BytesIO\n",
    "import zipfile\n",
    "import os\n",
    "from typing import Optional, List\n",
    "import time\n",
    "import warnings\n",
    "warnings.filterwarnings('ignore')\n"
   ]
  },
  {
   "cell_type": "code",
   "execution_count": 3,
   "id": "81f02a21",
   "metadata": {},
   "outputs": [],
   "source": [
    "## Config\n",
    "\n",
    "BASE_URL = \"https://pubfs-rma.fpac.usda.gov/pub/Web_Data_Files/Summary_of_Business/state_county_crop/\"\n",
    "\n",
    "#https://pubfs-rma.fpac.usda.gov/pub/Web_Data_Files/Summary_of_Business/state_county_crop/sobcov_2024.zip"
   ]
  },
  {
   "cell_type": "code",
   "execution_count": 4,
   "id": "d4d3cebe",
   "metadata": {},
   "outputs": [],
   "source": [
    "def download_rma_data(year: int) -> pd.DataFrame:\n",
    "    \"\"\"\n",
    "    Download USDA RMA Summary of Business data for a specific year\n",
    "    \n",
    "    Args:\n",
    "        year (int): Year to download data for \n",
    "    \n",
    "    \"\"\"\n",
    "    \n",
    "    zip_filename = f\"sobcov_{year}.zip\"\n",
    "    download_url = f\"{BASE_URL}/{zip_filename}\"\n",
    "    \n",
    "    \n",
    "    print(f\"Downloading RMA data for year {year}\")\n",
    "    \n",
    "    \n",
    "    try:\n",
    "        print(f\"Trying URL: {download_url}\")\n",
    "        response = requests.get(download_url, timeout=30)\n",
    "        response.raise_for_status()\n",
    "        \n",
    "        # Process the ZIP file\n",
    "        with zipfile.ZipFile(BytesIO(response.content)) as zip_ref:\n",
    "            # List files in the ZIP\n",
    "            file_list = zip_ref.namelist()\n",
    "            print(f\"Files in ZIP: {file_list}\")\n",
    "            \n",
    "            \n",
    "            data_file = None\n",
    "            for filename in file_list:\n",
    "                if filename.endswith(('.txt')):\n",
    "                    data_file = filename\n",
    "            \n",
    "            \n",
    "            if not data_file:\n",
    "                print(f\"No data file found in ZIP for year {year}\")\n",
    "            \n",
    "            print(f\"Processing file: {data_file}\")\n",
    "            \n",
    "            # Extract and read the data file\n",
    "            with zip_ref.open(data_file) as file:\n",
    "                # RMA files are typically pipe-delimited\n",
    "                content = file.read().decode('utf-8', errors='ignore')\n",
    "                \n",
    "                # Save raw data if requested\n",
    "                os.makedirs('data/raw', exist_ok=True)\n",
    "                with open(f'data/raw/rma_{year}.txt', 'w', encoding='utf-8') as f:\n",
    "                    f.write(content)\n",
    "                \n",
    "                # Read into DataFrame\n",
    "                df = pd.read_csv(StringIO(content), delimiter='|', low_memory=False)\n",
    "                \n",
    "                print(f\"Successfully downloaded {len(df)} records for year {year}\")\n",
    "                print(f\"Columns: {list(df.columns)}\")\n",
    "                \n",
    "                return df\n",
    "                \n",
    "    except requests.exceptions.RequestException as e:\n",
    "        print(f\"Failed to download from {download_url}: {e}\")\n",
    "    except zipfile.BadZipFile as e:\n",
    "        print(f\"Invalid ZIP file from {download_url}: {e}\")\n",
    "    except Exception as e:\n",
    "        print(f\"Error processing {download_url}: {e}\")\n",
    "    \n",
    "    \n",
    "    return pd.DataFrame()\n"
   ]
  }
 ],
 "metadata": {
  "kernelspec": {
   "display_name": ".venv",
   "language": "python",
   "name": "python3"
  },
  "language_info": {
   "codemirror_mode": {
    "name": "ipython",
    "version": 3
   },
   "file_extension": ".py",
   "mimetype": "text/x-python",
   "name": "python",
   "nbconvert_exporter": "python",
   "pygments_lexer": "ipython3",
   "version": "3.12.7"
  }
 },
 "nbformat": 4,
 "nbformat_minor": 5
}
